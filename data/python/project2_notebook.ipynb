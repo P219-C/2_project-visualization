{
 "cells": [
  {
   "cell_type": "markdown",
   "metadata": {},
   "source": [
    "# Database\n",
    "The following notebook build a sqlite database of approximately 9,000 earthquakes and ~200 countries. This db is later used to create 5 visualisations.\n",
    "\n",
    "The table **countries** has the following columns:\n",
    "\n",
    "1. Country Code\n",
    "2. Country Name\n",
    "3. Total Population (millions) ^\n",
    "4. Human Developmnet Index ^\n",
    "\n",
    "The table **earthquakes** was built using a GeoJSON file with information of every earthquake in the past 30 days. This dataset belongs to the United States Geological Survey (USGS)^^ and includes the following columns:\n",
    "1. USGS Earthquake ID\n",
    "2. Longitude\n",
    "3. Latitude\n",
    "4. Depth\n",
    "5. Timestamp\n",
    "6. Magnitude\n",
    "7. Country Code\n",
    "\n",
    "^ *Total Population* and *Human Development Index (HDI)* are values obtained from the *Human Development Report Office (HDRO)* (http://ec2-54-174-131-205.compute-1.amazonaws.com/API/Login.php). The HDRO offers an API for developers to query human development related data in JSON format. This dta is updated annually, upong the publication of the *global Human Development Report*\n",
    "\n",
    "^^ USGS - GeoJSON Summary Format: https://earthquake.usgs.gov/earthquakes/feed/v1.0/geojson.php\n",
    "\n",
    "Human development classification\n",
    "HDI classifications are based on HDI fixed cutoff points, which are derived from the quartiles of dis\n",
    "tributions of the component indicators. The cutoffpoints are HDI of less than 0.550 for low human development,\n",
    "0.550–0.699 for medium human development, 0.700–0.799 for high human development and 0.800 or greater \n",
    "for very high human development.\n",
    "Codes:\n",
    "44206 - Total Population (millions)\n",
    "137506 Human Development Index (HDI)"
   ]
  },
  {
   "cell_type": "markdown",
   "metadata": {},
   "source": [
    "## Part 1: Importing/requesting data\n",
    "Requesting json/geojson files from the HDRO and USGS."
   ]
  },
  {
   "cell_type": "code",
   "execution_count": 1,
   "metadata": {},
   "outputs": [],
   "source": [
    "import requests"
   ]
  },
  {
   "cell_type": "code",
   "execution_count": 2,
   "metadata": {},
   "outputs": [
    {
     "name": "stdout",
     "output_type": "stream",
     "text": [
      "HDRO: <Response [200]>\n",
      "USGS: <Response [200]>\n"
     ]
    }
   ],
   "source": [
    "url_HDRO = \"http://ec2-54-174-131-205.compute-1.amazonaws.com/API/HDRO_API.php/indicator_id=137506,44206/year=2019\"\n",
    "url_USGS = \"https://earthquake.usgs.gov/earthquakes/feed/v1.0/summary/all_month.geojson\"\n",
    "\n",
    "response_HDRO = requests.get(url_HDRO)\n",
    "print(f\"HDRO: {response_HDRO}\")\n",
    "response_USGS = requests.get(url_USGS)\n",
    "print(f\"USGS: {response_USGS}\")"
   ]
  },
  {
   "cell_type": "markdown",
   "metadata": {},
   "source": [
    "Saving the database into variables"
   ]
  },
  {
   "cell_type": "code",
   "execution_count": 3,
   "metadata": {},
   "outputs": [],
   "source": [
    "data_HDRO = response_HDRO.json()\n",
    "# print(json.dumps(data_HDRO, indent=4, sort_keys=True))\n",
    "data_USGS = response_USGS.json()"
   ]
  },
  {
   "cell_type": "markdown",
   "metadata": {},
   "source": [
    "The table *countries* required the country code in 2-digits-alpha format, but raw data was provided in 3-digit-alpha format. The repository https://github.com/lukes/ISO-3166-Countries-with-Regional-Codes includes a ready-to-use csv file with both, 2- and 3-digit country codes. This table was used to convert between the 2 formats."
   ]
  },
  {
   "cell_type": "markdown",
   "metadata": {},
   "source": [
    "Reading the csv file with country code information. "
   ]
  },
  {
   "cell_type": "code",
   "execution_count": 4,
   "metadata": {},
   "outputs": [],
   "source": [
    "import pandas as pd\n",
    "\n",
    "countryCodes_df = pd.read_csv(\"../../data/all.csv\")"
   ]
  },
  {
   "cell_type": "markdown",
   "metadata": {},
   "source": [
    "## Part 2: Cleaning the data\n",
    "**Actions taken to clean the csv file:**\n",
    "1. The only columns needed are *Country name*, *country code in 2-digit format*, and *country code in 3-digit format*.\n",
    "2. The 2-digit alpha code for country Namibia was missing, so the value was written manually."
   ]
  },
  {
   "cell_type": "code",
   "execution_count": 5,
   "metadata": {},
   "outputs": [
    {
     "data": {
      "text/plain": [
       "'NA'"
      ]
     },
     "execution_count": 5,
     "metadata": {},
     "output_type": "execute_result"
    }
   ],
   "source": [
    "# countryCodes_df\n",
    "clean_cc_df = countryCodes_df.copy()[[\"name\", \"alpha-2\", \"alpha-3\"]]\n",
    "clean_cc_df['alpha-2'][153] = 'NA'\n",
    "clean_cc_df['alpha-2'][153]"
   ]
  },
  {
   "cell_type": "code",
   "execution_count": 6,
   "metadata": {},
   "outputs": [],
   "source": [
    "clean_cc_df.to_csv(\"./output_data/clean_cc_df.csv\")"
   ]
  },
  {
   "cell_type": "markdown",
   "metadata": {},
   "source": [
    "Understanding the structure of the HDRO json file:"
   ]
  },
  {
   "cell_type": "code",
   "execution_count": 7,
   "metadata": {
    "scrolled": true
   },
   "outputs": [
    {
     "data": {
      "text/html": [
       "<div>\n",
       "<style scoped>\n",
       "    .dataframe tbody tr th:only-of-type {\n",
       "        vertical-align: middle;\n",
       "    }\n",
       "\n",
       "    .dataframe tbody tr th {\n",
       "        vertical-align: top;\n",
       "    }\n",
       "\n",
       "    .dataframe thead th {\n",
       "        text-align: right;\n",
       "    }\n",
       "</style>\n",
       "<table border=\"1\" class=\"dataframe\">\n",
       "  <thead>\n",
       "    <tr style=\"text-align: right;\">\n",
       "      <th></th>\n",
       "      <th>index</th>\n",
       "      <th>indicator_value</th>\n",
       "      <th>country_name</th>\n",
       "      <th>indicator_name</th>\n",
       "    </tr>\n",
       "  </thead>\n",
       "  <tbody>\n",
       "    <tr>\n",
       "      <th>0</th>\n",
       "      <td>AFG</td>\n",
       "      <td>{'44206': {'2019': 38.042}, '137506': {'2019':...</td>\n",
       "      <td>Afghanistan</td>\n",
       "      <td>NaN</td>\n",
       "    </tr>\n",
       "    <tr>\n",
       "      <th>1</th>\n",
       "      <td>AGO</td>\n",
       "      <td>{'44206': {'2019': 31.825}, '137506': {'2019':...</td>\n",
       "      <td>Angola</td>\n",
       "      <td>NaN</td>\n",
       "    </tr>\n",
       "    <tr>\n",
       "      <th>2</th>\n",
       "      <td>ALB</td>\n",
       "      <td>{'44206': {'2019': 2.8810000000000002}, '13750...</td>\n",
       "      <td>Albania</td>\n",
       "      <td>NaN</td>\n",
       "    </tr>\n",
       "    <tr>\n",
       "      <th>3</th>\n",
       "      <td>AND</td>\n",
       "      <td>{'44206': {'2019': 0.077}, '137506': {'2019': ...</td>\n",
       "      <td>Andorra</td>\n",
       "      <td>NaN</td>\n",
       "    </tr>\n",
       "    <tr>\n",
       "      <th>4</th>\n",
       "      <td>ARE</td>\n",
       "      <td>{'44206': {'2019': 9.771}, '137506': {'2019': ...</td>\n",
       "      <td>United Arab Emirates</td>\n",
       "      <td>NaN</td>\n",
       "    </tr>\n",
       "    <tr>\n",
       "      <th>...</th>\n",
       "      <td>...</td>\n",
       "      <td>...</td>\n",
       "      <td>...</td>\n",
       "      <td>...</td>\n",
       "    </tr>\n",
       "    <tr>\n",
       "      <th>192</th>\n",
       "      <td>ZAF</td>\n",
       "      <td>{'44206': {'2019': 58.558}, '137506': {'2019':...</td>\n",
       "      <td>South Africa</td>\n",
       "      <td>NaN</td>\n",
       "    </tr>\n",
       "    <tr>\n",
       "      <th>193</th>\n",
       "      <td>ZMB</td>\n",
       "      <td>{'44206': {'2019': 17.861}, '137506': {'2019':...</td>\n",
       "      <td>Zambia</td>\n",
       "      <td>NaN</td>\n",
       "    </tr>\n",
       "    <tr>\n",
       "      <th>194</th>\n",
       "      <td>ZWE</td>\n",
       "      <td>{'44206': {'2019': 14.645}, '137506': {'2019':...</td>\n",
       "      <td>Zimbabwe</td>\n",
       "      <td>NaN</td>\n",
       "    </tr>\n",
       "    <tr>\n",
       "      <th>195</th>\n",
       "      <td>44206</td>\n",
       "      <td>NaN</td>\n",
       "      <td>NaN</td>\n",
       "      <td>Total population (millions)</td>\n",
       "    </tr>\n",
       "    <tr>\n",
       "      <th>196</th>\n",
       "      <td>137506</td>\n",
       "      <td>NaN</td>\n",
       "      <td>NaN</td>\n",
       "      <td>Human Development Index (HDI)</td>\n",
       "    </tr>\n",
       "  </tbody>\n",
       "</table>\n",
       "<p>197 rows × 4 columns</p>\n",
       "</div>"
      ],
      "text/plain": [
       "      index                                    indicator_value  \\\n",
       "0       AFG  {'44206': {'2019': 38.042}, '137506': {'2019':...   \n",
       "1       AGO  {'44206': {'2019': 31.825}, '137506': {'2019':...   \n",
       "2       ALB  {'44206': {'2019': 2.8810000000000002}, '13750...   \n",
       "3       AND  {'44206': {'2019': 0.077}, '137506': {'2019': ...   \n",
       "4       ARE  {'44206': {'2019': 9.771}, '137506': {'2019': ...   \n",
       "..      ...                                                ...   \n",
       "192     ZAF  {'44206': {'2019': 58.558}, '137506': {'2019':...   \n",
       "193     ZMB  {'44206': {'2019': 17.861}, '137506': {'2019':...   \n",
       "194     ZWE  {'44206': {'2019': 14.645}, '137506': {'2019':...   \n",
       "195   44206                                                NaN   \n",
       "196  137506                                                NaN   \n",
       "\n",
       "             country_name                 indicator_name  \n",
       "0             Afghanistan                            NaN  \n",
       "1                  Angola                            NaN  \n",
       "2                 Albania                            NaN  \n",
       "3                 Andorra                            NaN  \n",
       "4    United Arab Emirates                            NaN  \n",
       "..                    ...                            ...  \n",
       "192          South Africa                            NaN  \n",
       "193                Zambia                            NaN  \n",
       "194              Zimbabwe                            NaN  \n",
       "195                   NaN    Total population (millions)  \n",
       "196                   NaN  Human Development Index (HDI)  \n",
       "\n",
       "[197 rows x 4 columns]"
      ]
     },
     "execution_count": 7,
     "metadata": {},
     "output_type": "execute_result"
    }
   ],
   "source": [
    "df_HDRO = pd.read_json(url_HDRO)\n",
    "df_HDRO = df_HDRO.reset_index()\n",
    "df_HDRO"
   ]
  },
  {
   "cell_type": "markdown",
   "metadata": {},
   "source": [
    "Extracting the required values from the HDRO json file and saving them in a pandas dataframe using the try/except methods.\n",
    "\n",
    "A few number of countries couldn't be saved into the dataframe as some of the required values were missing (see print outputs)."
   ]
  },
  {
   "cell_type": "code",
   "execution_count": 8,
   "metadata": {},
   "outputs": [
    {
     "name": "stdout",
     "output_type": "stream",
     "text": [
      "MCO {'44206': {'2019': 0.039}}\n",
      "NRU {'44206': {'2019': 0.011}}\n",
      "PRK {'44206': {'2019': 25.666}}\n",
      "SMR {'44206': {'2019': 0.034}}\n",
      "SOM {'44206': {'2019': 15.443}}\n",
      "TUV {'44206': {'2019': 0.012}}\n",
      "44206 nan\n",
      "137506 nan\n"
     ]
    },
    {
     "data": {
      "text/html": [
       "<div>\n",
       "<style scoped>\n",
       "    .dataframe tbody tr th:only-of-type {\n",
       "        vertical-align: middle;\n",
       "    }\n",
       "\n",
       "    .dataframe tbody tr th {\n",
       "        vertical-align: top;\n",
       "    }\n",
       "\n",
       "    .dataframe thead th {\n",
       "        text-align: right;\n",
       "    }\n",
       "</style>\n",
       "<table border=\"1\" class=\"dataframe\">\n",
       "  <thead>\n",
       "    <tr style=\"text-align: right;\">\n",
       "      <th></th>\n",
       "      <th>CountryName</th>\n",
       "      <th>CountryCode</th>\n",
       "      <th>HDI</th>\n",
       "      <th>TotalPopulation</th>\n",
       "    </tr>\n",
       "  </thead>\n",
       "  <tbody>\n",
       "    <tr>\n",
       "      <th>0</th>\n",
       "      <td>Afghanistan</td>\n",
       "      <td>AFG</td>\n",
       "      <td>0.511</td>\n",
       "      <td>38.042</td>\n",
       "    </tr>\n",
       "    <tr>\n",
       "      <th>1</th>\n",
       "      <td>Angola</td>\n",
       "      <td>AGO</td>\n",
       "      <td>0.581</td>\n",
       "      <td>31.825</td>\n",
       "    </tr>\n",
       "    <tr>\n",
       "      <th>2</th>\n",
       "      <td>Albania</td>\n",
       "      <td>ALB</td>\n",
       "      <td>0.795</td>\n",
       "      <td>2.881</td>\n",
       "    </tr>\n",
       "    <tr>\n",
       "      <th>3</th>\n",
       "      <td>Andorra</td>\n",
       "      <td>AND</td>\n",
       "      <td>0.868</td>\n",
       "      <td>0.077</td>\n",
       "    </tr>\n",
       "    <tr>\n",
       "      <th>4</th>\n",
       "      <td>United Arab Emirates</td>\n",
       "      <td>ARE</td>\n",
       "      <td>0.890</td>\n",
       "      <td>9.771</td>\n",
       "    </tr>\n",
       "    <tr>\n",
       "      <th>...</th>\n",
       "      <td>...</td>\n",
       "      <td>...</td>\n",
       "      <td>...</td>\n",
       "      <td>...</td>\n",
       "    </tr>\n",
       "    <tr>\n",
       "      <th>184</th>\n",
       "      <td>Samoa</td>\n",
       "      <td>WSM</td>\n",
       "      <td>0.715</td>\n",
       "      <td>0.197</td>\n",
       "    </tr>\n",
       "    <tr>\n",
       "      <th>185</th>\n",
       "      <td>Yemen</td>\n",
       "      <td>YEM</td>\n",
       "      <td>0.470</td>\n",
       "      <td>29.162</td>\n",
       "    </tr>\n",
       "    <tr>\n",
       "      <th>186</th>\n",
       "      <td>South Africa</td>\n",
       "      <td>ZAF</td>\n",
       "      <td>0.709</td>\n",
       "      <td>58.558</td>\n",
       "    </tr>\n",
       "    <tr>\n",
       "      <th>187</th>\n",
       "      <td>Zambia</td>\n",
       "      <td>ZMB</td>\n",
       "      <td>0.584</td>\n",
       "      <td>17.861</td>\n",
       "    </tr>\n",
       "    <tr>\n",
       "      <th>188</th>\n",
       "      <td>Zimbabwe</td>\n",
       "      <td>ZWE</td>\n",
       "      <td>0.571</td>\n",
       "      <td>14.645</td>\n",
       "    </tr>\n",
       "  </tbody>\n",
       "</table>\n",
       "<p>189 rows × 4 columns</p>\n",
       "</div>"
      ],
      "text/plain": [
       "              CountryName CountryCode    HDI  TotalPopulation\n",
       "0             Afghanistan         AFG  0.511           38.042\n",
       "1                  Angola         AGO  0.581           31.825\n",
       "2                 Albania         ALB  0.795            2.881\n",
       "3                 Andorra         AND  0.868            0.077\n",
       "4    United Arab Emirates         ARE  0.890            9.771\n",
       "..                    ...         ...    ...              ...\n",
       "184                 Samoa         WSM  0.715            0.197\n",
       "185                 Yemen         YEM  0.470           29.162\n",
       "186          South Africa         ZAF  0.709           58.558\n",
       "187                Zambia         ZMB  0.584           17.861\n",
       "188              Zimbabwe         ZWE  0.571           14.645\n",
       "\n",
       "[189 rows x 4 columns]"
      ]
     },
     "execution_count": 8,
     "metadata": {},
     "output_type": "execute_result"
    }
   ],
   "source": [
    "clean_HDRO_df = pd.DataFrame(columns=['CountryName', 'CountryCode', 'HDI', \"TotalPopulation\"]) \n",
    "# clean_HDRO_df\n",
    "for index, country in df_HDRO.iterrows():\n",
    "    try:\n",
    "        value_totalPopulation = float(country[\"indicator_value\"]['44206']['2019'])\n",
    "        value_HDI = float(country[\"indicator_value\"]['137506']['2019'])\n",
    "        clean_HDRO_df = clean_HDRO_df.append([{\"CountryName\": country[\"country_name\"], \"CountryCode\": country[\"index\"], \"HDI\": value_HDI, \"TotalPopulation\": value_totalPopulation}], ignore_index=True)\n",
    "    except:\n",
    "        print(country[\"index\"], country[\"indicator_value\"])\n",
    "\n",
    "clean_HDRO_df\n"
   ]
  },
  {
   "cell_type": "code",
   "execution_count": 9,
   "metadata": {},
   "outputs": [],
   "source": [
    "clean_HDRO_df.to_csv(\"./output_data/clean_HDRO_df.csv\")"
   ]
  },
  {
   "cell_type": "markdown",
   "metadata": {},
   "source": [
    "The df *countries* and the df *country codes* were merged through the 3-digit country code columns:"
   ]
  },
  {
   "cell_type": "code",
   "execution_count": 10,
   "metadata": {},
   "outputs": [],
   "source": [
    "clean_HDRO_df = clean_HDRO_df.merge(clean_cc_df, left_on=\"CountryCode\", right_on=\"alpha-3\", how=\"inner\")\n",
    "clean_HDRO_df =clean_HDRO_df.drop([\"CountryCode\"], axis=1)\n"
   ]
  },
  {
   "cell_type": "markdown",
   "metadata": {},
   "source": [
    "**Final HDRO table**"
   ]
  },
  {
   "cell_type": "code",
   "execution_count": 11,
   "metadata": {},
   "outputs": [
    {
     "data": {
      "text/html": [
       "<div>\n",
       "<style scoped>\n",
       "    .dataframe tbody tr th:only-of-type {\n",
       "        vertical-align: middle;\n",
       "    }\n",
       "\n",
       "    .dataframe tbody tr th {\n",
       "        vertical-align: top;\n",
       "    }\n",
       "\n",
       "    .dataframe thead th {\n",
       "        text-align: right;\n",
       "    }\n",
       "</style>\n",
       "<table border=\"1\" class=\"dataframe\">\n",
       "  <thead>\n",
       "    <tr style=\"text-align: right;\">\n",
       "      <th></th>\n",
       "      <th>CountryName</th>\n",
       "      <th>HDI</th>\n",
       "      <th>TotalPopulation</th>\n",
       "      <th>name</th>\n",
       "      <th>alpha-2</th>\n",
       "      <th>alpha-3</th>\n",
       "    </tr>\n",
       "  </thead>\n",
       "  <tbody>\n",
       "    <tr>\n",
       "      <th>0</th>\n",
       "      <td>Afghanistan</td>\n",
       "      <td>0.511</td>\n",
       "      <td>38.042</td>\n",
       "      <td>Afghanistan</td>\n",
       "      <td>AF</td>\n",
       "      <td>AFG</td>\n",
       "    </tr>\n",
       "    <tr>\n",
       "      <th>1</th>\n",
       "      <td>Angola</td>\n",
       "      <td>0.581</td>\n",
       "      <td>31.825</td>\n",
       "      <td>Angola</td>\n",
       "      <td>AO</td>\n",
       "      <td>AGO</td>\n",
       "    </tr>\n",
       "    <tr>\n",
       "      <th>2</th>\n",
       "      <td>Albania</td>\n",
       "      <td>0.795</td>\n",
       "      <td>2.881</td>\n",
       "      <td>Albania</td>\n",
       "      <td>AL</td>\n",
       "      <td>ALB</td>\n",
       "    </tr>\n",
       "    <tr>\n",
       "      <th>3</th>\n",
       "      <td>Andorra</td>\n",
       "      <td>0.868</td>\n",
       "      <td>0.077</td>\n",
       "      <td>Andorra</td>\n",
       "      <td>AD</td>\n",
       "      <td>AND</td>\n",
       "    </tr>\n",
       "    <tr>\n",
       "      <th>4</th>\n",
       "      <td>United Arab Emirates</td>\n",
       "      <td>0.890</td>\n",
       "      <td>9.771</td>\n",
       "      <td>United Arab Emirates</td>\n",
       "      <td>AE</td>\n",
       "      <td>ARE</td>\n",
       "    </tr>\n",
       "    <tr>\n",
       "      <th>...</th>\n",
       "      <td>...</td>\n",
       "      <td>...</td>\n",
       "      <td>...</td>\n",
       "      <td>...</td>\n",
       "      <td>...</td>\n",
       "      <td>...</td>\n",
       "    </tr>\n",
       "    <tr>\n",
       "      <th>184</th>\n",
       "      <td>Samoa</td>\n",
       "      <td>0.715</td>\n",
       "      <td>0.197</td>\n",
       "      <td>Samoa</td>\n",
       "      <td>WS</td>\n",
       "      <td>WSM</td>\n",
       "    </tr>\n",
       "    <tr>\n",
       "      <th>185</th>\n",
       "      <td>Yemen</td>\n",
       "      <td>0.470</td>\n",
       "      <td>29.162</td>\n",
       "      <td>Yemen</td>\n",
       "      <td>YE</td>\n",
       "      <td>YEM</td>\n",
       "    </tr>\n",
       "    <tr>\n",
       "      <th>186</th>\n",
       "      <td>South Africa</td>\n",
       "      <td>0.709</td>\n",
       "      <td>58.558</td>\n",
       "      <td>South Africa</td>\n",
       "      <td>ZA</td>\n",
       "      <td>ZAF</td>\n",
       "    </tr>\n",
       "    <tr>\n",
       "      <th>187</th>\n",
       "      <td>Zambia</td>\n",
       "      <td>0.584</td>\n",
       "      <td>17.861</td>\n",
       "      <td>Zambia</td>\n",
       "      <td>ZM</td>\n",
       "      <td>ZMB</td>\n",
       "    </tr>\n",
       "    <tr>\n",
       "      <th>188</th>\n",
       "      <td>Zimbabwe</td>\n",
       "      <td>0.571</td>\n",
       "      <td>14.645</td>\n",
       "      <td>Zimbabwe</td>\n",
       "      <td>ZW</td>\n",
       "      <td>ZWE</td>\n",
       "    </tr>\n",
       "  </tbody>\n",
       "</table>\n",
       "<p>189 rows × 6 columns</p>\n",
       "</div>"
      ],
      "text/plain": [
       "              CountryName    HDI  TotalPopulation                  name  \\\n",
       "0             Afghanistan  0.511           38.042           Afghanistan   \n",
       "1                  Angola  0.581           31.825                Angola   \n",
       "2                 Albania  0.795            2.881               Albania   \n",
       "3                 Andorra  0.868            0.077               Andorra   \n",
       "4    United Arab Emirates  0.890            9.771  United Arab Emirates   \n",
       "..                    ...    ...              ...                   ...   \n",
       "184                 Samoa  0.715            0.197                 Samoa   \n",
       "185                 Yemen  0.470           29.162                 Yemen   \n",
       "186          South Africa  0.709           58.558          South Africa   \n",
       "187                Zambia  0.584           17.861                Zambia   \n",
       "188              Zimbabwe  0.571           14.645              Zimbabwe   \n",
       "\n",
       "    alpha-2 alpha-3  \n",
       "0        AF     AFG  \n",
       "1        AO     AGO  \n",
       "2        AL     ALB  \n",
       "3        AD     AND  \n",
       "4        AE     ARE  \n",
       "..      ...     ...  \n",
       "184      WS     WSM  \n",
       "185      YE     YEM  \n",
       "186      ZA     ZAF  \n",
       "187      ZM     ZMB  \n",
       "188      ZW     ZWE  \n",
       "\n",
       "[189 rows x 6 columns]"
      ]
     },
     "execution_count": 11,
     "metadata": {},
     "output_type": "execute_result"
    }
   ],
   "source": [
    "clean_HDRO_df"
   ]
  },
  {
   "cell_type": "code",
   "execution_count": 12,
   "metadata": {},
   "outputs": [],
   "source": [
    "clean_HDRO_df.to_csv(\"./output_data/clean_HDRO_df_MERGED.csv\")"
   ]
  },
  {
   "cell_type": "markdown",
   "metadata": {},
   "source": [
    "## Part 3: SQL database\n",
    "\n",
    "Importing required SQL Alchemy modules:"
   ]
  },
  {
   "cell_type": "code",
   "execution_count": 13,
   "metadata": {},
   "outputs": [],
   "source": [
    "# Import SQL Alchemy\n",
    "from sqlalchemy import create_engine\n",
    "\n",
    "# Import module to create relationship patterns\n",
    "from sqlalchemy.orm import relationship\n",
    "\n",
    "# Import and establish Base for which classes will be constructed\n",
    "from sqlalchemy.ext.declarative import declarative_base\n",
    "Base = declarative_base()\n",
    "\n",
    "# Import modules to declare columns and column data types\n",
    "from sqlalchemy import Table, Column, Integer, String, Float, BigInteger, ForeignKey"
   ]
  },
  {
   "cell_type": "markdown",
   "metadata": {},
   "source": [
    "Creating *Countries* and *Earthquakes* classes:"
   ]
  },
  {
   "cell_type": "code",
   "execution_count": 14,
   "metadata": {},
   "outputs": [],
   "source": [
    "# Create classes:\n",
    "# Countries & Earthquakes\n",
    "\n",
    "class Countries(Base):  #Parent\n",
    "    __tablename__ = 'countries'\n",
    "    # id = Column(Integer, primary_key=True)\n",
    "    CountryCode = Column(String(255), primary_key=True)\n",
    "    CountryName = Column(String(255))\n",
    "    Population = Column(Float)  # Millions\n",
    "    HDIndex = Column(Float) # Index\n",
    "    earthquake = relationship(\"Earthquakes\")\n",
    "\n",
    "class Earthquakes(Base):    #Child\n",
    "    __tablename__ = 'earthquakes'\n",
    "    # id = Column(Integer, primary_key=True)\n",
    "    EarthquakeID = Column(String(255), primary_key=True)\n",
    "    Latitude = Column(Float)\n",
    "    Longitude = Column(Float)\n",
    "    Depth = Column(Float)\n",
    "    DateTime = Column(BigInteger)\n",
    "    Magnitude = Column(Float)\n",
    "    # CountryCode = Column(String(255))   # Foreign Key?\n",
    "    country_id = Column(String(255), ForeignKey('countries.CountryCode'))\n",
    "    # parent = relationship(\"Countries\", back_populates=\"children\")\n",
    "\n",
    "\n",
    "# print(data_USGS[\"features\"])"
   ]
  },
  {
   "cell_type": "markdown",
   "metadata": {},
   "source": [
    "Since the GeoJson file doesn't provide the country name where each earthquake hit, reverse geocoding was implemented using the python library **reverse_geocoder** (https://github.com/thampiman/reverse-geocoder).\n",
    "\n",
    "The library **tqdm** provides a nice and ready-to-use progress bar."
   ]
  },
  {
   "cell_type": "code",
   "execution_count": 15,
   "metadata": {},
   "outputs": [],
   "source": [
    "import reverse_geocoder as rg\n",
    "from time import sleep\n",
    "from tqdm.auto import tqdm"
   ]
  },
  {
   "cell_type": "markdown",
   "metadata": {},
   "source": [
    "The next block of code execute the following actions:\n",
    "1. Creating Database Connection\n",
    "2. Establishing connection to a sqlite database\n",
    "3. Creating countries and Earthquakes tables"
   ]
  },
  {
   "cell_type": "code",
   "execution_count": 16,
   "metadata": {},
   "outputs": [],
   "source": [
    "# Create Database Connection\n",
    "# ---------------------------\n",
    "# Establish Connection\n",
    "engine = create_engine(\"sqlite:///project2_test.sqlite\")\n",
    "conn = engine.connect()\n",
    "\n",
    "# Create Countries and Earthquakes tables within the database\n",
    "Base.metadata.create_all(conn)\n",
    "\n",
    "# To push the objects made and query the server we use a Session object\n",
    "from sqlalchemy.orm import Session\n",
    "session = Session(bind=engine)"
   ]
  },
  {
   "cell_type": "markdown",
   "metadata": {},
   "source": [
    "Inserting entries to the Country table."
   ]
  },
  {
   "cell_type": "code",
   "execution_count": 17,
   "metadata": {},
   "outputs": [
    {
     "name": "stderr",
     "output_type": "stream",
     "text": [
      "100%|██████████| 189/189 [00:22<00:00,  8.47it/s]\n"
     ]
    }
   ],
   "source": [
    "for index, country in tqdm(clean_HDRO_df.iterrows(), total=len(clean_HDRO_df)):\n",
    "    # sleep(0.1)\n",
    "    try:\n",
    "        # Add new_country to the current session\n",
    "        new_country = Countries(CountryCode=country[\"alpha-2\"],CountryName=country[\"CountryName\"],Population=country[\"TotalPopulation\"],HDIndex=country[\"HDI\"])\n",
    "        session.add(new_country)\n",
    "\n",
    "        # Commit objects to the database\n",
    "        session.commit()\n",
    "    except:\n",
    "        print(country[\"alpha-2\"], country[\"CountryName\"], country[\"TotalPopulation\"], country[\"HDI\"])\n"
   ]
  },
  {
   "cell_type": "markdown",
   "metadata": {},
   "source": [
    "Inserting entries to the Earthquake table (Reverse geocoding is used here) and after completion closing the connection to the sqlite database."
   ]
  },
  {
   "cell_type": "code",
   "execution_count": 18,
   "metadata": {},
   "outputs": [
    {
     "name": "stderr",
     "output_type": "stream",
     "text": [
      "  0%|          | 0/9157 [00:00<?, ?it/s]"
     ]
    },
    {
     "name": "stdout",
     "output_type": "stream",
     "text": [
      "Loading formatted geocoded file...\n"
     ]
    },
    {
     "name": "stderr",
     "output_type": "stream",
     "text": [
      "  0%|          | 10/9157 [00:19<4:55:05,  1.94s/it]\n"
     ]
    }
   ],
   "source": [
    "cont=1\n",
    "# Create specific instances of the Countries and Earthquakes classes\n",
    "for earthquake in tqdm(data_USGS[\"features\"], total=len(data_USGS[\"features\"])):\n",
    "    # sleep(0.1)\n",
    "\n",
    "    if cont<=10:\n",
    "        try:\n",
    "            lon = earthquake[\"geometry\"][\"coordinates\"][0]\n",
    "            lat = earthquake[\"geometry\"][\"coordinates\"][1]\n",
    "            depth1 = earthquake[\"geometry\"][\"coordinates\"][2]\n",
    "            mag = earthquake[\"properties\"][\"mag\"]\n",
    "            datetime1 = earthquake[\"properties\"][\"time\"]\n",
    "            ctry_code = rg.search((lat,lon))[0][\"cc\"]\n",
    "            new_earthquake = Earthquakes(EarthquakeID=earthquake[\"id\"], Longitude=lon, Latitude=lat, Depth=depth1, DateTime=datetime1, Magnitude=mag, country_id=ctry_code)\n",
    "\n",
    "            # Add new_earthquake to the current session\n",
    "            session.add(new_earthquake)\n",
    "\n",
    "            # Commit objects to the database\n",
    "            session.commit()\n",
    "            \n",
    "        except:\n",
    "            print(f\"{earthquake['id']}, {lon}, {lat}, {depth1}, {earthquake['properties']['time']}, {ctry_code}\")\n",
    "        \n",
    "        cont += 1\n",
    "    else:\n",
    "        break\n",
    "\n",
    "\n",
    "conn.close()\n",
    "engine.dispose()"
   ]
  },
  {
   "cell_type": "code",
   "execution_count": 19,
   "metadata": {},
   "outputs": [
    {
     "name": "stdout",
     "output_type": "stream",
     "text": [
      "DATABASE COMPLETED\n"
     ]
    }
   ],
   "source": [
    "print(\"DATABASE COMPLETED\")"
   ]
  }
 ],
 "metadata": {
  "kernelspec": {
   "display_name": "Python 3",
   "language": "python",
   "name": "python3"
  },
  "language_info": {
   "codemirror_mode": {
    "name": "ipython",
    "version": 3
   },
   "file_extension": ".py",
   "mimetype": "text/x-python",
   "name": "python",
   "nbconvert_exporter": "python",
   "pygments_lexer": "ipython3",
   "version": "3.7.11"
  }
 },
 "nbformat": 4,
 "nbformat_minor": 4
}
