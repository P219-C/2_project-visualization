{
 "cells": [
  {
   "cell_type": "code",
   "execution_count": 1,
   "metadata": {},
   "outputs": [],
   "source": [
    "# FOR HDI: http://ec2-54-174-131-205.compute-1.amazonaws.com/API/Information.php\n",
    "# Human development classification\n",
    "# HDI classifications are based on HDI fixed cutoff points, which are derived from the quartiles of dis\n",
    "# tributions of the component indicators. The cutoffpoints are HDI of less than 0.550 for low human development,\n",
    "#  0.550–0.699 for medium human development, 0.700–0.799 for high human development and 0.800 or greater \n",
    "#  for very high human development."
   ]
  },
  {
   "cell_type": "code",
   "execution_count": 14,
   "metadata": {},
   "outputs": [],
   "source": [
    "import json\n",
    "from turtle import back\n",
    "import requests"
   ]
  },
  {
   "cell_type": "code",
   "execution_count": 15,
   "metadata": {},
   "outputs": [
    {
     "name": "stdout",
     "output_type": "stream",
     "text": [
      "HDRO: <Response [200]>\n",
      "USGS: <Response [200]>\n"
     ]
    }
   ],
   "source": [
    "url_HDRO = \"http://ec2-54-174-131-205.compute-1.amazonaws.com/API/HDRO_API.php/indicator_id=137506,44206/year=2019\"\n",
    "url_USGS = \"https://earthquake.usgs.gov/earthquakes/feed/v1.0/summary/all_month.geojson\"\n",
    "\n",
    "response_HDRO = requests.get(url_HDRO)\n",
    "print(f\"HDRO: {response_HDRO}\")\n",
    "response_USGS = requests.get(url_USGS)\n",
    "print(f\"USGS: {response_USGS}\")"
   ]
  },
  {
   "cell_type": "code",
   "execution_count": 4,
   "metadata": {},
   "outputs": [],
   "source": [
    "data_HDRO = response_HDRO.json()\n",
    "# print(json.dumps(data_HDRO, indent=4, sort_keys=True))\n",
    "data_USGS = response_USGS.json()"
   ]
  },
  {
   "cell_type": "code",
   "execution_count": 2,
   "metadata": {},
   "outputs": [],
   "source": [
    "import pandas as pd\n",
    "\n",
    "countryCodes_df = pd.read_csv(\"../../data/all.csv\")"
   ]
  },
  {
   "cell_type": "code",
   "execution_count": 16,
   "metadata": {},
   "outputs": [
    {
     "data": {
      "text/html": [
       "<div>\n",
       "<style scoped>\n",
       "    .dataframe tbody tr th:only-of-type {\n",
       "        vertical-align: middle;\n",
       "    }\n",
       "\n",
       "    .dataframe tbody tr th {\n",
       "        vertical-align: top;\n",
       "    }\n",
       "\n",
       "    .dataframe thead th {\n",
       "        text-align: right;\n",
       "    }\n",
       "</style>\n",
       "<table border=\"1\" class=\"dataframe\">\n",
       "  <thead>\n",
       "    <tr style=\"text-align: right;\">\n",
       "      <th></th>\n",
       "      <th>indicator_value</th>\n",
       "      <th>country_name</th>\n",
       "      <th>indicator_name</th>\n",
       "    </tr>\n",
       "  </thead>\n",
       "  <tbody>\n",
       "    <tr>\n",
       "      <th>AFG</th>\n",
       "      <td>{'44206': {'2019': 38.042}, '137506': {'2019':...</td>\n",
       "      <td>Afghanistan</td>\n",
       "      <td>NaN</td>\n",
       "    </tr>\n",
       "    <tr>\n",
       "      <th>AGO</th>\n",
       "      <td>{'44206': {'2019': 31.825}, '137506': {'2019':...</td>\n",
       "      <td>Angola</td>\n",
       "      <td>NaN</td>\n",
       "    </tr>\n",
       "    <tr>\n",
       "      <th>ALB</th>\n",
       "      <td>{'44206': {'2019': 2.8810000000000002}, '13750...</td>\n",
       "      <td>Albania</td>\n",
       "      <td>NaN</td>\n",
       "    </tr>\n",
       "    <tr>\n",
       "      <th>AND</th>\n",
       "      <td>{'44206': {'2019': 0.077}, '137506': {'2019': ...</td>\n",
       "      <td>Andorra</td>\n",
       "      <td>NaN</td>\n",
       "    </tr>\n",
       "    <tr>\n",
       "      <th>ARE</th>\n",
       "      <td>{'44206': {'2019': 9.771}, '137506': {'2019': ...</td>\n",
       "      <td>United Arab Emirates</td>\n",
       "      <td>NaN</td>\n",
       "    </tr>\n",
       "    <tr>\n",
       "      <th>...</th>\n",
       "      <td>...</td>\n",
       "      <td>...</td>\n",
       "      <td>...</td>\n",
       "    </tr>\n",
       "    <tr>\n",
       "      <th>ZAF</th>\n",
       "      <td>{'44206': {'2019': 58.558}, '137506': {'2019':...</td>\n",
       "      <td>South Africa</td>\n",
       "      <td>NaN</td>\n",
       "    </tr>\n",
       "    <tr>\n",
       "      <th>ZMB</th>\n",
       "      <td>{'44206': {'2019': 17.861}, '137506': {'2019':...</td>\n",
       "      <td>Zambia</td>\n",
       "      <td>NaN</td>\n",
       "    </tr>\n",
       "    <tr>\n",
       "      <th>ZWE</th>\n",
       "      <td>{'44206': {'2019': 14.645}, '137506': {'2019':...</td>\n",
       "      <td>Zimbabwe</td>\n",
       "      <td>NaN</td>\n",
       "    </tr>\n",
       "    <tr>\n",
       "      <th>44206</th>\n",
       "      <td>NaN</td>\n",
       "      <td>NaN</td>\n",
       "      <td>Total population (millions)</td>\n",
       "    </tr>\n",
       "    <tr>\n",
       "      <th>137506</th>\n",
       "      <td>NaN</td>\n",
       "      <td>NaN</td>\n",
       "      <td>Human Development Index (HDI)</td>\n",
       "    </tr>\n",
       "  </tbody>\n",
       "</table>\n",
       "<p>197 rows × 3 columns</p>\n",
       "</div>"
      ],
      "text/plain": [
       "                                          indicator_value  \\\n",
       "AFG     {'44206': {'2019': 38.042}, '137506': {'2019':...   \n",
       "AGO     {'44206': {'2019': 31.825}, '137506': {'2019':...   \n",
       "ALB     {'44206': {'2019': 2.8810000000000002}, '13750...   \n",
       "AND     {'44206': {'2019': 0.077}, '137506': {'2019': ...   \n",
       "ARE     {'44206': {'2019': 9.771}, '137506': {'2019': ...   \n",
       "...                                                   ...   \n",
       "ZAF     {'44206': {'2019': 58.558}, '137506': {'2019':...   \n",
       "ZMB     {'44206': {'2019': 17.861}, '137506': {'2019':...   \n",
       "ZWE     {'44206': {'2019': 14.645}, '137506': {'2019':...   \n",
       "44206                                                 NaN   \n",
       "137506                                                NaN   \n",
       "\n",
       "                country_name                 indicator_name  \n",
       "AFG              Afghanistan                            NaN  \n",
       "AGO                   Angola                            NaN  \n",
       "ALB                  Albania                            NaN  \n",
       "AND                  Andorra                            NaN  \n",
       "ARE     United Arab Emirates                            NaN  \n",
       "...                      ...                            ...  \n",
       "ZAF             South Africa                            NaN  \n",
       "ZMB                   Zambia                            NaN  \n",
       "ZWE                 Zimbabwe                            NaN  \n",
       "44206                    NaN    Total population (millions)  \n",
       "137506                   NaN  Human Development Index (HDI)  \n",
       "\n",
       "[197 rows x 3 columns]"
      ]
     },
     "execution_count": 16,
     "metadata": {},
     "output_type": "execute_result"
    }
   ],
   "source": [
    "countryCodes_df\n",
    "clean_cc_df = countryCodes_df.copy()[[\"name\", \"alpha-2\", \"alpha-3\"]]\n",
    "clean_cc_df\n",
    "\n",
    "df_HDRO = pd.read_json(url_HDRO)\n",
    "df_HDRO"
   ]
  },
  {
   "cell_type": "code",
   "execution_count": 17,
   "metadata": {},
   "outputs": [
    {
     "data": {
      "text/plain": [
       "AFG       {'44206': {'2019': 38.042}, '137506': {'2019':...\n",
       "AGO       {'44206': {'2019': 31.825}, '137506': {'2019':...\n",
       "ALB       {'44206': {'2019': 2.8810000000000002}, '13750...\n",
       "AND       {'44206': {'2019': 0.077}, '137506': {'2019': ...\n",
       "ARE       {'44206': {'2019': 9.771}, '137506': {'2019': ...\n",
       "                                ...                        \n",
       "ZAF       {'44206': {'2019': 58.558}, '137506': {'2019':...\n",
       "ZMB       {'44206': {'2019': 17.861}, '137506': {'2019':...\n",
       "ZWE       {'44206': {'2019': 14.645}, '137506': {'2019':...\n",
       "44206                                                   NaN\n",
       "137506                                                  NaN\n",
       "Name: indicator_value, Length: 197, dtype: object"
      ]
     },
     "execution_count": 17,
     "metadata": {},
     "output_type": "execute_result"
    }
   ],
   "source": [
    "df_HDRO[\"indicator_value\"]"
   ]
  },
  {
   "cell_type": "code",
   "execution_count": 5,
   "metadata": {},
   "outputs": [],
   "source": [
    "# Import SQL Alchemy\n",
    "from sqlalchemy import create_engine\n",
    "\n",
    "# Import module to create relationship patterns\n",
    "from sqlalchemy.orm import relationship\n",
    "\n",
    "# Import and establish Base for which classes will be constructed\n",
    "from sqlalchemy.ext.declarative import declarative_base\n",
    "Base = declarative_base()\n",
    "\n",
    "# Import modules to declare columns and column data types\n",
    "from sqlalchemy import Table, Column, Integer, String, Float, BigInteger, ForeignKey"
   ]
  },
  {
   "cell_type": "code",
   "execution_count": 6,
   "metadata": {},
   "outputs": [],
   "source": [
    "# Create classes:\n",
    "# Countries & Earthquakes\n",
    "\n",
    "class Countries(Base):  #Parent\n",
    "    __tablename__ = 'countries'\n",
    "    # id = Column(Integer, primary_key=True)\n",
    "    CountryCode = Column(String(255), primary_key=True)\n",
    "    CountryName = Column(String(255))\n",
    "    Population = Column(Float)  # Millions\n",
    "    HDIndex = Column(Float) # Index\n",
    "    earthquake = relationship(\"Earthquakes\")\n",
    "\n",
    "class Earthquakes(Base):    #Child\n",
    "    __tablename__ = 'earthquakes'\n",
    "    # id = Column(Integer, primary_key=True)\n",
    "    EarthquakeID = Column(String(255), primary_key=True)\n",
    "    Latitude = Column(Float)\n",
    "    Longitude = Column(Float)\n",
    "    Depth = Column(Float)\n",
    "    DateTime = Column(BigInteger)\n",
    "    # CountryCode = Column(String(255))   # Foreign Key?\n",
    "    country_id = Column(String(255), ForeignKey('countries.CountryCode'))\n",
    "    # parent = relationship(\"Countries\", back_populates=\"children\")\n",
    "\n",
    "\n",
    "# print(data_USGS[\"features\"])"
   ]
  },
  {
   "cell_type": "code",
   "execution_count": 7,
   "metadata": {},
   "outputs": [],
   "source": [
    "import reverse_geocoder as rg"
   ]
  },
  {
   "cell_type": "code",
   "execution_count": 13,
   "metadata": {},
   "outputs": [
    {
     "name": "stdout",
     "output_type": "stream",
     "text": [
      "1, nc73679671, -122.8286667, 38.814167, 1.71, 1642425219890, US\n",
      "2, nc73679666, -122.8040009, 38.8358345, 1.84, 1642424621790, US\n",
      "3, nc73679661, -122.765831, 38.8243332, 2.21, 1642422795980, US\n",
      "4, nc73679656, -122.8551636, 38.8250008, 2.2, 1642422566460, US\n",
      "5, nc73679651, -122.4076691, 38.6626663, 8.86, 1642422297540, US\n",
      "6, ci39914471, -117.7183333, 35.8935, 8.12, 1642421532580, US\n",
      "7, ak022sbbg1t, -149.8531, 61.8252, 76.2, 1642421187214, US\n",
      "8, hv72878212, -155.399169921875, 19.2024993896484, 31.5900001525879, 1642420716640, US\n",
      "9, ok2022bedg, -99.27513885, 36.51202774, 2.934551954, 1642419786772, US\n",
      "10, us7000gclu, 63.5686, 34.9479, 10, 1642419607217, AF\n",
      "-122.8286667\n",
      "-122.8040009\n",
      "-122.765831\n",
      "-122.8551636\n",
      "-122.4076691\n",
      "-117.7183333\n",
      "-149.8531\n",
      "-155.399169921875\n",
      "-99.27513885\n",
      "63.5686\n"
     ]
    }
   ],
   "source": [
    "# Create Database Connection\n",
    "# ---------------------------\n",
    "# Establish Connection\n",
    "engine = create_engine(\"sqlite:///project2-3.sqlite\")\n",
    "conn = engine.connect()\n",
    "\n",
    "# Create Countries and Earthquakes tables within the database\n",
    "Base.metadata.create_all(conn)\n",
    "\n",
    "# To push the objects made and query the server we use a Session object\n",
    "from sqlalchemy.orm import Session\n",
    "session = Session(bind=engine)\n",
    "\n",
    "i=1\n",
    "# Create specific instances of the Countries and Earthquakes classes\n",
    "for earthquake in data_USGS[\"features\"]:\n",
    "\n",
    "    if i<=10:\n",
    "        # print(earthquake[\"id\"], earthquake[\"geometry\"][\"coordinates\"][0], earthquake[\"geometry\"][\"coordinates\"][1], earthquake[\"geometry\"][\"coordinates\"][2], earthquake[\"properties\"][\"time\"])\n",
    "        lon = earthquake[\"geometry\"][\"coordinates\"][0]\n",
    "        lat = earthquake[\"geometry\"][\"coordinates\"][1]\n",
    "        depth1 = earthquake[\"geometry\"][\"coordinates\"][2]\n",
    "        ctry_code = rg.search((lat,lon))[0][\"cc\"]\n",
    "        new_earthquake = Earthquakes(EarthquakeID=earthquake[\"id\"], Longitude=lon, Latitude=lat, Depth=depth1, DateTime=earthquake[\"properties\"][\"time\"], country_id=ctry_code)\n",
    "\n",
    "        print(f\"{i}, {earthquake['id']}, {lon}, {lat}, {depth1}, {earthquake['properties']['time']}, {ctry_code}\")\n",
    "        # Add new_earthquake to the current session\n",
    "        session.add(new_earthquake)\n",
    "        # Add new_country to the current session\n",
    "\n",
    "        # Commit objects to the database\n",
    "        session.commit()\n",
    "        # print(i)\n",
    "        i = i+1\n",
    "    else:\n",
    "        break\n",
    "\n",
    "\n",
    "conn.close()\n",
    "engine.dispose()\n",
    "\n",
    "\n",
    "\n",
    "\n",
    "earthquake_list = session.query(Earthquakes)\n",
    "for earthquake in earthquake_list:\n",
    "    print(earthquake.Longitude)"
   ]
  },
  {
   "cell_type": "code",
   "execution_count": null,
   "metadata": {},
   "outputs": [],
   "source": []
  }
 ],
 "metadata": {
  "kernelspec": {
   "display_name": "Python 3",
   "language": "python",
   "name": "python3"
  },
  "language_info": {
   "codemirror_mode": {
    "name": "ipython",
    "version": 3
   },
   "file_extension": ".py",
   "mimetype": "text/x-python",
   "name": "python",
   "nbconvert_exporter": "python",
   "pygments_lexer": "ipython3",
   "version": "3.7.11"
  }
 },
 "nbformat": 4,
 "nbformat_minor": 4
}
