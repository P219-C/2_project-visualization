{
 "cells": [
  {
   "cell_type": "code",
   "execution_count": null,
   "metadata": {},
   "outputs": [],
   "source": [
    "# FOR HDI: http://ec2-54-174-131-205.compute-1.amazonaws.com/API/Information.php\n",
    "# Human development classification\n",
    "# HDI classifications are based on HDI fixed cutoff points, which are derived from the quartiles of dis\n",
    "# tributions of the component indicators. The cutoffpoints are HDI of less than 0.550 for low human development,\n",
    "#  0.550–0.699 for medium human development, 0.700–0.799 for high human development and 0.800 or greater \n",
    "#  for very high human development.\n",
    "# Codes:\n",
    "# 44206 - Total Population (millions)\n",
    "# 137506 Human Development Index (HDI)"
   ]
  },
  {
   "cell_type": "code",
   "execution_count": null,
   "metadata": {},
   "outputs": [],
   "source": [
    "import json\n",
    "from turtle import back\n",
    "import requests"
   ]
  },
  {
   "cell_type": "code",
   "execution_count": null,
   "metadata": {},
   "outputs": [],
   "source": [
    "url_HDRO = \"http://ec2-54-174-131-205.compute-1.amazonaws.com/API/HDRO_API.php/indicator_id=137506,44206/year=2019\"\n",
    "url_USGS = \"https://earthquake.usgs.gov/earthquakes/feed/v1.0/summary/all_month.geojson\"\n",
    "\n",
    "response_HDRO = requests.get(url_HDRO)\n",
    "print(f\"HDRO: {response_HDRO}\")\n",
    "response_USGS = requests.get(url_USGS)\n",
    "print(f\"USGS: {response_USGS}\")"
   ]
  },
  {
   "cell_type": "code",
   "execution_count": null,
   "metadata": {},
   "outputs": [],
   "source": [
    "data_HDRO = response_HDRO.json()\n",
    "# print(json.dumps(data_HDRO, indent=4, sort_keys=True))\n",
    "data_USGS = response_USGS.json()"
   ]
  },
  {
   "cell_type": "code",
   "execution_count": null,
   "metadata": {},
   "outputs": [],
   "source": [
    "import pandas as pd\n",
    "\n",
    "countryCodes_df = pd.read_csv(\"../../data/all.csv\")"
   ]
  },
  {
   "cell_type": "code",
   "execution_count": null,
   "metadata": {},
   "outputs": [],
   "source": [
    "countryCodes_df\n",
    "clean_cc_df = countryCodes_df.copy()[[\"name\", \"alpha-2\", \"alpha-3\"]]\n",
    "clean_cc_df\n",
    "\n",
    "df_HDRO = pd.read_json(url_HDRO)\n",
    "df_HDRO = df_HDRO.reset_index()\n",
    "df_HDRO"
   ]
  },
  {
   "cell_type": "code",
   "execution_count": null,
   "metadata": {},
   "outputs": [],
   "source": [
    "clean_HDRO_df = pd.DataFrame(columns=['CountryName', 'CountryCode', 'HDI', \"TotalPopulation\"]) \n",
    "# clean_HDRO_df\n",
    "i=1\n",
    "for index, country in df_HDRO.iterrows():\n",
    "    try:\n",
    "        value_totalPopulation = float(country[\"indicator_value\"]['44206']['2019'])\n",
    "        value_HDI = float(country[\"indicator_value\"]['137506']['2019'])\n",
    "        clean_HDRO_df = clean_HDRO_df.append([{\"CountryName\": country[\"country_name\"], \"CountryCode\": country[\"index\"], \"HDI\": value_HDI, \"TotalPopulation\": value_totalPopulation}], ignore_index=True)\n",
    "    except:\n",
    "        print(country[\"index\"], country[\"indicator_value\"])\n",
    "\n",
    "clean_HDRO_df\n"
   ]
  },
  {
   "cell_type": "code",
   "execution_count": null,
   "metadata": {},
   "outputs": [],
   "source": [
    "clean_HDRO_df = clean_HDRO_df.merge(clean_cc_df, left_on=\"CountryCode\", right_on=\"alpha-3\", how=\"inner\")\n",
    "clean_HDRO_df =clean_HDRO_df.drop([\"CountryCode\"], axis=1)\n"
   ]
  },
  {
   "cell_type": "code",
   "execution_count": null,
   "metadata": {},
   "outputs": [],
   "source": [
    "clean_HDRO_df"
   ]
  },
  {
   "cell_type": "code",
   "execution_count": null,
   "metadata": {},
   "outputs": [],
   "source": [
    "for index, row in clean_HDRO_df.iterrows():\n",
    "    print(row)"
   ]
  },
  {
   "cell_type": "code",
   "execution_count": null,
   "metadata": {},
   "outputs": [],
   "source": [
    "# Import SQL Alchemy\n",
    "from sqlalchemy import create_engine\n",
    "\n",
    "# Import module to create relationship patterns\n",
    "from sqlalchemy.orm import relationship\n",
    "\n",
    "# Import and establish Base for which classes will be constructed\n",
    "from sqlalchemy.ext.declarative import declarative_base\n",
    "Base = declarative_base()\n",
    "\n",
    "# Import modules to declare columns and column data types\n",
    "from sqlalchemy import Table, Column, Integer, String, Float, BigInteger, ForeignKey"
   ]
  },
  {
   "cell_type": "code",
   "execution_count": null,
   "metadata": {},
   "outputs": [],
   "source": [
    "# Create classes:\n",
    "# Countries & Earthquakes\n",
    "\n",
    "class Countries(Base):  #Parent\n",
    "    __tablename__ = 'countries'\n",
    "    # id = Column(Integer, primary_key=True)\n",
    "    CountryCode = Column(String(255), primary_key=True)\n",
    "    CountryName = Column(String(255))\n",
    "    Population = Column(Float)  # Millions\n",
    "    HDIndex = Column(Float) # Index\n",
    "    earthquake = relationship(\"Earthquakes\")\n",
    "\n",
    "class Earthquakes(Base):    #Child\n",
    "    __tablename__ = 'earthquakes'\n",
    "    # id = Column(Integer, primary_key=True)\n",
    "    EarthquakeID = Column(String(255), primary_key=True)\n",
    "    Latitude = Column(Float)\n",
    "    Longitude = Column(Float)\n",
    "    Depth = Column(Float)\n",
    "    DateTime = Column(BigInteger)\n",
    "    # CountryCode = Column(String(255))   # Foreign Key?\n",
    "    country_id = Column(String(255), ForeignKey('countries.CountryCode'))\n",
    "    # parent = relationship(\"Countries\", back_populates=\"children\")\n",
    "\n",
    "\n",
    "# print(data_USGS[\"features\"])"
   ]
  },
  {
   "cell_type": "code",
   "execution_count": null,
   "metadata": {},
   "outputs": [],
   "source": [
    "import reverse_geocoder as rg\n",
    "from time import sleep\n",
    "from tqdm.auto import tqdm"
   ]
  },
  {
   "cell_type": "code",
   "execution_count": null,
   "metadata": {},
   "outputs": [],
   "source": [
    "# Create Database Connection\n",
    "# ---------------------------\n",
    "# Establish Connection\n",
    "engine = create_engine(\"sqlite:///project2.sqlite\")\n",
    "conn = engine.connect()\n",
    "\n",
    "# Create Countries and Earthquakes tables within the database\n",
    "Base.metadata.create_all(conn)\n",
    "\n",
    "# To push the objects made and query the server we use a Session object\n",
    "from sqlalchemy.orm import Session\n",
    "session = Session(bind=engine)"
   ]
  },
  {
   "cell_type": "code",
   "execution_count": null,
   "metadata": {},
   "outputs": [],
   "source": [
    "for index, country in tqdm(clean_HDRO_df.iterrows()):\n",
    "    sleep(0.1)\n",
    "    try:\n",
    "        new_country = Countries(CountryCode=country[\"alpha-2\"],CountryName=country[\"CountryName\"],Population=country[\"TotalPopulation\"],HDIndex=country[\"HDI\"])\n",
    "        session.add(new_country)\n",
    "        session.commit()\n",
    "    except:\n",
    "        print(country[\"alpha-2\"], country[\"CountryName\"], country[\"TotalPopulation\"], country[\"HDI\"])\n"
   ]
  },
  {
   "cell_type": "code",
   "execution_count": null,
   "metadata": {},
   "outputs": [],
   "source": [
    "i=1\n",
    "# Create specific instances of the Countries and Earthquakes classes\n",
    "for earthquake in tqdm(data_USGS[\"features\"]):\n",
    "    sleep(0.1)\n",
    "\n",
    "    if i<=10:\n",
    "        # print(earthquake[\"id\"], earthquake[\"geometry\"][\"coordinates\"][0], earthquake[\"geometry\"][\"coordinates\"][1], earthquake[\"geometry\"][\"coordinates\"][2], earthquake[\"properties\"][\"time\"])\n",
    "        lon = earthquake[\"geometry\"][\"coordinates\"][0]\n",
    "        lat = earthquake[\"geometry\"][\"coordinates\"][1]\n",
    "        depth1 = earthquake[\"geometry\"][\"coordinates\"][2]\n",
    "        ctry_code = rg.search((lat,lon))[0][\"cc\"]\n",
    "        new_earthquake = Earthquakes(EarthquakeID=earthquake[\"id\"], Longitude=lon, Latitude=lat, Depth=depth1, DateTime=earthquake[\"properties\"][\"time\"], country_id=ctry_code)\n",
    "\n",
    "        print(f\"{i}, {earthquake['id']}, {lon}, {lat}, {depth1}, {earthquake['properties']['time']}, {ctry_code}\")\n",
    "        # Add new_earthquake to the current session\n",
    "        session.add(new_earthquake)\n",
    "        # Add new_country to the current session\n",
    "\n",
    "        # Commit objects to the database\n",
    "        session.commit()\n",
    "        # print(i)\n",
    "        i = i+1\n",
    "    else:\n",
    "        break\n",
    "\n",
    "\n",
    "conn.close()\n",
    "engine.dispose()\n",
    "\n",
    "\n",
    "\n",
    "\n",
    "earthquake_list = session.query(Earthquakes)\n",
    "for earthquake in earthquake_list:\n",
    "    print(earthquake.Longitude)"
   ]
  },
  {
   "cell_type": "code",
   "execution_count": null,
   "metadata": {},
   "outputs": [],
   "source": []
  }
 ],
 "metadata": {
  "kernelspec": {
   "display_name": "Python 3",
   "language": "python",
   "name": "python3"
  },
  "language_info": {
   "codemirror_mode": {
    "name": "ipython",
    "version": 3
   },
   "file_extension": ".py",
   "mimetype": "text/x-python",
   "name": "python",
   "nbconvert_exporter": "python",
   "pygments_lexer": "ipython3",
   "version": "3.7.11"
  }
 },
 "nbformat": 4,
 "nbformat_minor": 4
}
